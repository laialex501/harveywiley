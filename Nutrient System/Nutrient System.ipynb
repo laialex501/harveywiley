{
 "cells": [
  {
   "cell_type": "code",
   "execution_count": 2,
   "metadata": {},
   "outputs": [
    {
     "name": "stdout",
     "output_type": "stream",
     "text": [
      "Collecting CFEDemands\n",
      "  Using cached https://files.pythonhosted.org/packages/bb/88/c089541197d01bdc33bdb517656e6d3780632d3443fdc4acc2c934ae09c5/CFEDemands-0.2.7.dev0-py2.py3-none-any.whl\n",
      "Installing collected packages: CFEDemands\n",
      "Successfully installed CFEDemands-0.2.7.dev0\n",
      "\u001b[33mYou are using pip version 9.0.3, however version 20.0.2 is available.\n",
      "You should consider upgrading via the 'pip install --upgrade pip' command.\u001b[0m\n",
      "Collecting xarray\n",
      "  Using cached https://files.pythonhosted.org/packages/ee/11/fb2a8a6015e3de4ff19a4870bb0d11f48ebdd997062557d24cd076b3088f/xarray-0.15.1-py3-none-any.whl\n",
      "Collecting pandas>=0.25 (from xarray)\n",
      "  Using cached https://files.pythonhosted.org/packages/bb/71/8f53bdbcbc67c912b888b40def255767e475402e9df64050019149b1a943/pandas-1.0.3-cp36-cp36m-manylinux1_x86_64.whl\n",
      "Collecting setuptools>=41.2 (from xarray)\n",
      "  Using cached https://files.pythonhosted.org/packages/a0/df/635cdb901ee4a8a42ec68e480c49f85f4c59e8816effbf57d9e6ee8b3588/setuptools-46.1.3-py3-none-any.whl\n",
      "Collecting numpy>=1.15 (from xarray)\n",
      "  Using cached https://files.pythonhosted.org/packages/3d/fc/4763e5f17ac6e7e7d55f377cde859ca1c5d5ac624441ab45315bc578aa9e/numpy-1.18.3-cp36-cp36m-manylinux1_x86_64.whl\n",
      "Requirement already up-to-date: pytz>=2017.2 in /srv/app/venv/lib/python3.6/site-packages (from pandas>=0.25->xarray)\n",
      "Requirement already up-to-date: python-dateutil>=2.6.1 in /srv/app/venv/lib/python3.6/site-packages (from pandas>=0.25->xarray)\n",
      "Requirement already up-to-date: six>=1.5 in /srv/app/venv/lib/python3.6/site-packages (from python-dateutil>=2.6.1->pandas>=0.25->xarray)\n",
      "Installing collected packages: numpy, pandas, setuptools, xarray\n",
      "  Found existing installation: numpy 1.16.0\n",
      "    Uninstalling numpy-1.16.0:\n",
      "      Successfully uninstalled numpy-1.16.0\n",
      "  Found existing installation: pandas 0.23.4\n",
      "    Uninstalling pandas-0.23.4:\n",
      "      Successfully uninstalled pandas-0.23.4\n",
      "  Found existing installation: setuptools 46.1.1\n",
      "    Uninstalling setuptools-46.1.1:\n",
      "      Successfully uninstalled setuptools-46.1.1\n",
      "  Found existing installation: xarray 0.12.3\n",
      "    Uninstalling xarray-0.12.3:\n",
      "      Successfully uninstalled xarray-0.12.3\n",
      "Successfully installed numpy-1.18.3 pandas-1.0.3 setuptools-46.1.3 xarray-0.15.1\n",
      "\u001b[33mYou are using pip version 9.0.3, however version 20.0.2 is available.\n",
      "You should consider upgrading via the 'pip install --upgrade pip' command.\u001b[0m\n",
      "Collecting h5netcdf\n",
      "  Using cached https://files.pythonhosted.org/packages/1c/1f/804e30e786ff1fc30ff6bd08e6f4f8ca0a2116b1505ad394a45ad80affc7/h5netcdf-0.8.0-py2.py3-none-any.whl\n",
      "Requirement already satisfied: h5py in /srv/app/venv/lib/python3.6/site-packages (from h5netcdf)\n",
      "Requirement already satisfied: numpy>=1.7 in /srv/app/venv/lib/python3.6/site-packages (from h5py->h5netcdf)\n",
      "Requirement already satisfied: six in /srv/app/venv/lib/python3.6/site-packages (from h5py->h5netcdf)\n",
      "Installing collected packages: h5netcdf\n",
      "Successfully installed h5netcdf-0.8.0\n",
      "\u001b[33mYou are using pip version 9.0.3, however version 20.0.2 is available.\n",
      "You should consider upgrading via the 'pip install --upgrade pip' command.\u001b[0m\n"
     ]
    }
   ],
   "source": [
    "!pip install CFEDemands --upgrade --pre\n",
    "!pip install xarray --upgrade\n",
    "!pip install h5netcdf"
   ]
  },
  {
   "cell_type": "code",
   "execution_count": 5,
   "metadata": {},
   "outputs": [],
   "source": [
    "import cfe\n",
    "\n",
    "# Results can be made persistent by saving them, and then re-loading...\n",
    "r = cfe.from_dataset('./Ethiopia_small.ds')\n",
    "\n",
    "r['alpha'] = r.alpha.loc[r.alpha>0]"
   ]
  },
  {
   "cell_type": "code",
   "execution_count": 6,
   "metadata": {},
   "outputs": [
    {
     "data": {
      "text/plain": [
       "Coordinates:\n",
       "  * i        (i) object 'Banana' 'Barley' 'Beef' ... 'Tella' 'Tomato' 'Wheat'\n",
       "  * t        (t) int64 2011 2013 2015\n",
       "  * m        (m) int64 1\n",
       "  * u        (u) object '40' 'Araba' ... 'Zorba/Akara \\xa0  Small'"
      ]
     },
     "execution_count": 6,
     "metadata": {},
     "output_type": "execute_result"
    }
   ],
   "source": [
    "r.prices.coords"
   ]
  },
  {
   "cell_type": "code",
   "execution_count": 8,
   "metadata": {},
   "outputs": [
    {
     "name": "stderr",
     "output_type": "stream",
     "text": [
      "/srv/app/venv/lib/python3.6/site-packages/xarray/core/nanops.py:142: RuntimeWarning: Mean of empty slice\n",
      "  return np.nanmean(a, axis=axis, dtype=dtype)\n",
      "/srv/app/venv/lib/python3.6/site-packages/xarray/core/nputils.py:215: RuntimeWarning: Degrees of freedom <= 0 for slice.\n",
      "  result = getattr(npmodule, name)(values, axis=axis, **kwargs)\n"
     ]
    },
    {
     "data": {
      "text/plain": [
       "i\n",
       "Banana            2.138573\n",
       "Barley           10.130627\n",
       "Chat / Kat        4.360239\n",
       "Cheese           38.000000\n",
       "Chick Pea        19.950864\n",
       "Coffee            0.182123\n",
       "Eggs             17.000000\n",
       "Haricot Beans     8.400000\n",
       "Horsebeans       11.201397\n",
       "Kocho             3.872905\n",
       "Lentils          25.350303\n",
       "Linseed           0.249102\n",
       "Maize             1.606267\n",
       "Meat              9.164968\n",
       "Milk             16.000000\n",
       "Millet            5.986486\n",
       "Onion             1.899735\n",
       "Potato            2.128150\n",
       "Salt              0.028861\n",
       "Sorghum           3.867222\n",
       "Sugar             0.269821\n",
       "Teff              6.893324\n",
       "Wheat             7.693904\n",
       "Name: prices, dtype: float64"
      ]
     },
     "execution_count": 8,
     "metadata": {},
     "output_type": "execute_result"
    }
   ],
   "source": [
    "t = r.firstround  # First round\n",
    "m = r.coords['m'][0] # First market\n",
    "\n",
    "# Get median budget\n",
    "x = r.get_predicted_expenditures().sum('i')\n",
    "medianx = x.where(x>0).sel(t=t,m=m).median('j').values\n",
    "\n",
    "# Note selection of prices for first market in first period for /kgs/.\n",
    "# For goods never measured in kgs prices will be missing. \n",
    "p = r.prices.sel(t=2011,m=1,u='Kg',drop=True).to_dataframe().squeeze().dropna()\n",
    "p"
   ]
  },
  {
   "cell_type": "code",
   "execution_count": 9,
   "metadata": {},
   "outputs": [
    {
     "data": {
      "text/plain": [
       "i\n",
       "Banana            2.252682\n",
       "Barley            7.575711\n",
       "Chat / Kat        3.188113\n",
       "Chick Pea         1.389511\n",
       "Coffee           33.331246\n",
       "Eggs              0.160435\n",
       "Haricot Beans     1.785131\n",
       "Horsebeans        1.725570\n",
       "Lentils           0.273692\n",
       "Maize            21.901694\n",
       "Milk              0.348218\n",
       "Onion             2.194407\n",
       "Potato            1.472625\n",
       "Salt             68.543013\n",
       "Sorghum          29.018355\n",
       "Sugar            30.475477\n",
       "Teff              1.963178\n",
       "Wheat            12.618170\n",
       "dtype: float64"
      ]
     },
     "execution_count": 9,
     "metadata": {},
     "output_type": "execute_result"
    }
   ],
   "source": [
    "# Expenditures divided by reference prices per Kilogram\n",
    "c=(r.demands(medianx)/p).dropna()\n",
    "c"
   ]
  },
  {
   "cell_type": "code",
   "execution_count": 10,
   "metadata": {},
   "outputs": [
    {
     "data": {
      "text/plain": [
       "Index(['Protein', 'Fat', 'fibre', 'carbohydrate', 'Calories', 'energy_kj',\n",
       "       'Calcium', 'Iron', 'Betacarotene', 'caroten_total', 'Thiamine',\n",
       "       'Riboflavin', 'Niacin', 'Ascorbic Acid', 'pu_cal', 'pu_prot', 'pu_fat'],\n",
       "      dtype='object')"
      ]
     },
     "execution_count": 10,
     "metadata": {},
     "output_type": "execute_result"
    }
   ],
   "source": [
    "import pandas as pd\n",
    "import numpy as np\n",
    "\n",
    "# The function below adapted from Gianmario Spacagna's suggestion at\n",
    "# https://stackoverflow.com/questions/19611729/getting-google-spreadsheet-csv-into-a-pandas-dataframe\n",
    "def dataframe_from_gspreadsheet(sheet_name, key):\n",
    "    \"\"\"Transform public google spreadsheet into pandas.DataFrame.\"\"\"\n",
    "    \n",
    "    url = 'https://docs.google.com/spreadsheets/d/{key}/gviz/tq?tqx=out:csv&sheet={sheet_name}&headers=1'.format(\n",
    "        key=key, sheet_name=sheet_name.replace(' ', '%20'))\n",
    "\n",
    "    df = pd.read_csv(url)\n",
    "\n",
    "    return df.drop([col for col in df.columns if col.startswith('Unnamed')], axis=1)\n",
    "\n",
    "# Change 'ICRISAT' sheet id to that of your own sheet\n",
    "fct = dataframe_from_gspreadsheet(\"Sheet2\", '1fLm7yQYfkim7REWb0wkU33XMr2lcHvFG4-N782wiYlI')\n",
    "# fct = dataframe_from_gspreadsheet(\"FCT\", '1qUqZA8WELSvir4jM_2QkFg6vAatWeNW5mlJkIXlIshk')\n",
    "#https://docs.google.com/spreadsheets/d/1fLm7yQYfkim7REWb0wkU33XMr2lcHvFG4-N782wiYlI/edit?usp=sharing\n",
    "\n",
    "# Change some labels\n",
    "d={'protein':'Protein',\n",
    "   'protein g':'Protein',\n",
    "   'fat':'Fat',\n",
    "   'energy_kcal':'Calories',\n",
    "   'energy kcal':'Calories',\n",
    "   'calcium':'Calcium',\n",
    "   'ca mg':'Calcium',\n",
    "   'betacarotene':'Betacarotene',\n",
    "   'thiamine':'Thiamine',\n",
    "   'riboflavin':'Riboflavin',\n",
    "   'niacin':'Niacin',\n",
    "   'iron':'Iron',\n",
    "   'fe mg':'Iron',\n",
    "   'ascorbic_total':'Ascorbic Acid',\n",
    "   'vit a ug':'Vitamin A',\n",
    "   'vit b6 mg':'Vitamin B6',\n",
    "   'vit b12 ug':'Vitamin B12',\n",
    "   'vit d ug':'Vitamin D',\n",
    "   'vit e ug':'Vitamin E',\n",
    "   'vit c mg':'Vitamin C',\n",
    "   'mg mg':'Magnesium',\n",
    "   'zn mg':'Zinc'}\n",
    "\n",
    "fct = fct.rename(columns=d) #[list(d.values())]\n",
    "\n",
    "# Fix capitalization (to match food labels)\n",
    "fct.index = fct.reset_index()['i'].str.title()\n",
    "del fct['i']\n",
    "del fct['ext_source']\n",
    "\n",
    "# Replace missing with zeros\n",
    "fct = fct.fillna(0)\n",
    "\n",
    "try:\n",
    "    fct.index = fct.index.droplevel('u')\n",
    "except (AttributeError,KeyError):\n",
    "    pass # No units?\n",
    "\n",
    "fct.columns"
   ]
  },
  {
   "cell_type": "code",
   "execution_count": 11,
   "metadata": {},
   "outputs": [
    {
     "name": "stdout",
     "output_type": "stream",
     "text": [
      "Index(['Milk', 'Sugar', 'Eggs', 'Potato', 'Onion', 'Banana', 'Coffee'], dtype='object', name='i')\n"
     ]
    }
   ],
   "source": [
    "# Create a new FCT and vector of consumption that only share rows in common:\n",
    "fct0,c0 = fct.align(c,axis=0,join='inner')\n",
    "print(fct0.index)"
   ]
  },
  {
   "cell_type": "code",
   "execution_count": 12,
   "metadata": {},
   "outputs": [
    {
     "data": {
      "text/plain": [
       "Protein             634.142940\n",
       "Fat                4902.666234\n",
       "fibre               100.490303\n",
       "carbohydrate      26439.898224\n",
       "Calories         110646.329262\n",
       "energy_kj        463254.062004\n",
       "Calcium           33787.353995\n",
       "Iron               1428.974919\n",
       "Betacarotene      39777.162072\n",
       "caroten_total     74271.098254\n",
       "Thiamine             14.161777\n",
       "Riboflavin            4.138775\n",
       "Niacin               27.524530\n",
       "Ascorbic Acid       474.512385\n",
       "pu_cal           125882.173552\n",
       "pu_prot             131.534006\n",
       "pu_fat               32.668108\n",
       "dtype: float64"
      ]
     },
     "execution_count": 12,
     "metadata": {},
     "output_type": "execute_result"
    }
   ],
   "source": [
    "# The @ operator means matrix multiply\n",
    "N = fct0.T@c0\n",
    "N"
   ]
  },
  {
   "cell_type": "code",
   "execution_count": 17,
   "metadata": {},
   "outputs": [],
   "source": [
    "def nutrient_demand(x,pscale=None,p=p):\n",
    "    c = (r.demands(x,p=pscale)/p).dropna()\n",
    "    fct0,c0 = fct.align(c,axis=0,join='inner')\n",
    "    N = fct0.T@c0\n",
    "\n",
    "    return N"
   ]
  },
  {
   "cell_type": "code",
   "execution_count": 20,
   "metadata": {},
   "outputs": [
    {
     "data": {
      "text/plain": [
       "Text(0, 0.5, 'log nutrient')"
      ]
     },
     "execution_count": 20,
     "metadata": {},
     "output_type": "execute_result"
    },
    {
     "data": {
      "image/png": "[encoded data removed]",
      "text/plain": [
       "<Figure size 432x288 with 1 Axes>"
      ]
     },
     "metadata": {
      "needs_background": "light"
     },
     "output_type": "display_data"
    }
   ],
   "source": [
    "import numpy as np\n",
    "import matplotlib.pyplot as plt\n",
    "\n",
    "X = np.linspace(medianx/5,medianx*5,50).tolist()\n",
    "\n",
    "UseNutrients = ['Protein','Calories','Iron','Calcium']\n",
    "\n",
    "# Use reference prices\n",
    "logN={}\n",
    "for myx in X:\n",
    "    logN[myx] = np.log(nutrient_demand(myx)[UseNutrients])\n",
    "    \n",
    "logN = pd.concat(logN,axis=1).T\n",
    "\n",
    "plt.plot(X,logN)\n",
    "plt.legend(UseNutrients)\n",
    "plt.xlabel('log budget')\n",
    "plt.ylabel('log nutrient')"
   ]
  },
  {
   "cell_type": "code",
   "execution_count": 23,
   "metadata": {},
   "outputs": [
    {
     "data": {
      "text/plain": [
       "Text(0.5, 0, 'log Nutrient')"
      ]
     },
     "execution_count": 23,
     "metadata": {},
     "output_type": "execute_result"
    },
    {
     "data": {
      "image/png": "[encoded data removed]",
      "text/plain": [
       "<Figure size 432x288 with 1 Axes>"
      ]
     },
     "metadata": {
      "needs_background": "light"
     },
     "output_type": "display_data"
    }
   ],
   "source": [
    "# Choose some good from your dataset\n",
    "USE_GOOD = 'Potato'\n",
    "\n",
    "P = np.linspace(1,5,20).tolist()\n",
    "\n",
    "plt.plot(pd.concat({p0:np.log(nutrient_demand(medianx,pscale={USE_GOOD:p0})[UseNutrients]) for p0 in P},axis=1).T,P)\n",
    "plt.legend(UseNutrients)\n",
    "plt.ylabel('Price')\n",
    "plt.xlabel('log Nutrient')"
   ]
  },
  {
   "cell_type": "code",
   "execution_count": null,
   "metadata": {},
   "outputs": [],
   "source": []
  }
 ],
 "metadata": {
  "kernelspec": {
   "display_name": "Python 3",
   "language": "python",
   "name": "python3"
  },
  "language_info": {
   "codemirror_mode": {
    "name": "ipython",
    "version": 3
   },
   "file_extension": ".py",
   "mimetype": "text/x-python",
   "name": "python",
   "nbconvert_exporter": "python",
   "pygments_lexer": "ipython3",
   "version": "3.6.9"
  }
 },
 "nbformat": 4,
 "nbformat_minor": 4
}
